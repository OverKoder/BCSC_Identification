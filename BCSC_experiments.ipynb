{
 "cells": [
  {
   "cell_type": "code",
   "execution_count": 1,
   "metadata": {},
   "outputs": [],
   "source": [
    "import scanpy\n",
    "import pandas as pd \n",
    "import numpy as np "
   ]
  },
  {
   "cell_type": "code",
   "execution_count": 1,
   "metadata": {},
   "outputs": [
    {
     "name": "stdout",
     "output_type": "stream",
     "text": [
      "Non zero percentages: 0.06908140801872932\n"
     ]
    }
   ],
   "source": [
    "epithelial_data = scanpy.read('../BCSC_data/Epithelial-atlas.h5ad')\n",
    "\n",
    "# Count non zero values percentages\n",
    "print(\"Non zero percentages:\", epithelial_data.X.count_nonzero() / (epithelial_data.X.shape[0] * epithelial_data.X.shape[1]))"
   ]
  },
  {
   "cell_type": "code",
   "execution_count": 7,
   "metadata": {},
   "outputs": [
    {
     "name": "stdout",
     "output_type": "stream",
     "text": [
      "WARNING: You seem to have 3421 duplicate cells in your data. Consider removing these via pp.remove_duplicate_cells.\n",
      "computing neighbors\n",
      "    finished (0:00:30) --> added \n",
      "    'distances' and 'connectivities', weighted adjacency matrices (adata.obsp)\n",
      "WARNING: The neighbor graph has an unexpected format (e.g. computed outside scvelo) \n",
      "or is corrupted (e.g. due to subsetting). Consider recomputing with `pp.neighbors`.\n",
      "computing moments based on connectivities\n",
      "    finished (0:11:20) --> added \n",
      "    'Ms' and 'Mu', moments of un/spliced abundances (adata.layers)\n"
     ]
    }
   ],
   "source": [
    "from src.utils.cytotrace import CytoTRACE\n",
    "\n",
    "cytotrace_anndata = scanpy.AnnData(epithelial_data.X.T)\n",
    "cytotrace_anndata.var['annotation'] = list(epithelial_data.obs['author_cell_type'].values)\n",
    "cytotrace = CytoTRACE(cytotrace_anndata)\n",
    "cytotrace.run(n_neighbors = 30, n_pcs = 30)"
   ]
  },
  {
   "cell_type": "markdown",
   "metadata": {},
   "source": [
    "CytoTRACE result on Epithelial data"
   ]
  },
  {
   "cell_type": "code",
   "execution_count": 27,
   "metadata": {},
   "outputs": [
    {
     "name": "stdout",
     "output_type": "stream",
     "text": [
      "LummHR-major : 2360\n",
      "LummHR-SCGB : 1147\n",
      "LummHR-active : 482\n",
      "Lumsec-major : 473\n",
      "Lumsec-basal : 2007\n",
      "Lumsec-myo : 51\n",
      "Lumsec-prol : 8\n",
      "Lumsec-KIT : 35\n",
      "Lumsec-HLA : 154\n",
      "basal : 613\n",
      "Lumsec-lac : 8\n"
     ]
    }
   ],
   "source": [
    "counts = cytotrace.get_counts(threshold=0.000001)\n",
    "for count in counts:\n",
    "    print(count, \":\", counts[count])"
   ]
  },
  {
   "cell_type": "code",
   "execution_count": 30,
   "metadata": {},
   "outputs": [
    {
     "data": {
      "text/plain": [
       "0.0283968"
      ]
     },
     "execution_count": 30,
     "metadata": {},
     "output_type": "execute_result"
    }
   ],
   "source": [
    "cytotrace_anndata.obs['ct_score'].values.mean()"
   ]
  },
  {
   "cell_type": "code",
   "execution_count": 2,
   "metadata": {},
   "outputs": [
    {
     "name": "stderr",
     "output_type": "stream",
     "text": [
      "Filtering genes...: 100%|██████████| 3386/3386 [00:00<00:00, 4203.10it/s]\n",
      "Building mask matrix...: 100%|██████████| 3374/3374 [00:35<00:00, 96.04it/s] \n",
      "Computing ORIGINS...: 100%|██████████| 240804/240804 [02:21<00:00, 1700.22it/s]\n"
     ]
    },
    {
     "name": "stdout",
     "output_type": "stream",
     "text": [
      "Time elapsed: 181.53738498687744 seconds\n"
     ]
    }
   ],
   "source": [
    "from src.utils.origins import ORIGINS\n",
    "\n",
    "epithelial_data = scanpy.read('../BCSC_data/Epithelial-atlas.h5ad')\n",
    "epithelial_data_origins = scanpy.AnnData(epithelial_data.X)\n",
    "epithelial_data_origins.var['features'] = list(epithelial_data.var['feature_name'].values)\n",
    "epithelial_data_origins.obs['annotation'] = list(epithelial_data.obs['author_cell_type'].values)\n",
    "\n",
    "origins = ORIGINS(anndata = epithelial_data_origins, path = \"origins_ppi.csv\", show_progress = True)\n",
    "result_epithelial = origins.run()"
   ]
  },
  {
   "cell_type": "markdown",
   "metadata": {},
   "source": [
    "ORIGINS result on Epithelial data"
   ]
  },
  {
   "cell_type": "code",
   "execution_count": 4,
   "metadata": {},
   "outputs": [
    {
     "name": "stdout",
     "output_type": "stream",
     "text": [
      "LummHR-major : 174\n",
      "LummHR-SCGB : 154\n",
      "LummHR-active : 20\n",
      "Lumsec-basal : 280\n",
      "Lumsec-major : 197\n",
      "Lumsec-myo : 5\n",
      "Lumsec-KIT : 493\n",
      "Lumsec-prol : 104\n",
      "basal : 311\n",
      "Lumsec-lac : 368\n",
      "Lumsec-HLA : 2\n"
     ]
    }
   ],
   "source": [
    "counts = origins.get_counts(threshold=0.1)\n",
    "for count in counts:\n",
    "    print(count, \":\", counts[count])"
   ]
  },
  {
   "cell_type": "markdown",
   "metadata": {},
   "source": [
    "Bone Marrow data"
   ]
  },
  {
   "cell_type": "code",
   "execution_count": 7,
   "metadata": {},
   "outputs": [
    {
     "name": "stdout",
     "output_type": "stream",
     "text": [
      "Non zero percentages: 0.036576874845375966\n"
     ]
    }
   ],
   "source": [
    "bm_data = scanpy.read('../BCSC_data/20492a4b-0def-457b-9574-60dfdde2a0f2/BM_standard_design.h5ad')\n",
    "\n",
    "# Count non zero values percentages\n",
    "print(\"Non zero percentages:\", bm_data.X.count_nonzero() / (bm_data.X.shape[0] * bm_data.X.shape[1]))"
   ]
  },
  {
   "cell_type": "markdown",
   "metadata": {},
   "source": [
    "Filter cells with metadata (select only those with annotation)\n",
    "And show how many of each cell there are"
   ]
  },
  {
   "cell_type": "code",
   "execution_count": 8,
   "metadata": {},
   "outputs": [
    {
     "name": "stderr",
     "output_type": "stream",
     "text": [
      "/Home/siv34/crgim4144/.conda/envs/thesis/lib/python3.10/site-packages/openpyxl/worksheet/_reader.py:329: UserWarning: Unknown extension is not supported and will be removed\n",
      "  warn(msg)\n"
     ]
    },
    {
     "name": "stdout",
     "output_type": "stream",
     "text": [
      "NK cells : 4630\n",
      "CD8+ naive T cells : 5378\n",
      "T helper cells : 11069\n",
      "HSCs : 4136\n",
      "CD4+ naive T cells : 5089\n",
      "cDCs : 4601\n",
      "Pre-B cells : 2668\n",
      "CD14+ monocytes : 20563\n",
      "Neutrophil progenitors : 2527\n",
      "Erythroid cells : 8739\n",
      "Pro-B cells : 2336\n",
      "Memory B cells : 3268\n",
      "ANK1-low erythroid cells : 1643\n",
      "Cytotoxic T cells : 7869\n",
      "Plasma cells : 1902\n",
      "pDCs : 2432\n",
      "Naive B cells : 994\n",
      "Erythroid progenitors : 2316\n",
      "CD16+ monocytes : 3293\n",
      "Megakaryocyte progenitors : 578\n",
      "MSCs : 185\n"
     ]
    }
   ],
   "source": [
    "from collections import Counter\n",
    "\n",
    "# Read metadata\n",
    "bm_metadata = pd.read_excel('../BCSC_data/BM_metadata.xlsx', sheet_name=2)\n",
    "\n",
    "# We have to do some extra programming to match the string in the data with the metadata (for some awful reason\n",
    "# they are different)\n",
    "names = [s[6:-6] for s in bm_metadata['Cell'].values]\n",
    "name_dict = {}\n",
    "\n",
    "# Make a string that matches\n",
    "for name in names:\n",
    "    name = name.split('-')\n",
    "    name = name[0][:4] + name[0][-1:] + \"-\" + name[1]\n",
    "    name_dict[name] = name\n",
    "\n",
    "name_idx = [(name, index) for name, index in zip(bm_data.obs.index, range(len(bm_data.obs.index)))]\n",
    "name_list = []\n",
    "idx_list = []\n",
    "\n",
    "# Match the strings\n",
    "for name, idx in name_idx:\n",
    "\n",
    "    try:\n",
    "        name_list.append(name_dict[name])\n",
    "        idx_list.append(idx)\n",
    "    except:\n",
    "        pass\n",
    "\n",
    "\n",
    "count = Counter(bm_data.obs.loc[name_list]['anno'].values)\n",
    "\n",
    "# Count the cells with correct annotation\n",
    "for cell in count:\n",
    "    print(cell,\":\", count[cell])"
   ]
  },
  {
   "cell_type": "code",
   "execution_count": 12,
   "metadata": {},
   "outputs": [
    {
     "name": "stdout",
     "output_type": "stream",
     "text": [
      "WARNING: You seem to have 851 duplicate cells in your data. Consider removing these via pp.remove_duplicate_cells.\n",
      "computing neighbors\n",
      "    finished (0:00:28) --> added \n",
      "    'distances' and 'connectivities', weighted adjacency matrices (adata.obsp)\n",
      "computing moments based on connectivities\n",
      "    finished (0:01:18) --> added \n",
      "    'Ms' and 'Mu', moments of un/spliced abundances (adata.layers)\n"
     ]
    }
   ],
   "source": [
    "from src.utils.cytotrace import CytoTRACE\n",
    "\n",
    "cytotrace_anndata = scanpy.AnnData(bm_data.X[idx_list,:].T)\n",
    "cytotrace_anndata.var['annotation'] = list(bm_data.obs.loc[name_list]['anno'].values)\n",
    "cytotrace = CytoTRACE(cytotrace_anndata)\n",
    "cytotrace.run(n_neighbors = 30, n_pcs = 30)"
   ]
  },
  {
   "cell_type": "markdown",
   "metadata": {},
   "source": [
    "CytoTRACE result on Bone Marrow data"
   ]
  },
  {
   "cell_type": "code",
   "execution_count": 13,
   "metadata": {},
   "outputs": [
    {
     "name": "stdout",
     "output_type": "stream",
     "text": [
      "T helper cells : 448\n",
      "HSCs : 46\n",
      "CD4+ naive T cells : 233\n",
      "CD8+ naive T cells : 91\n",
      "Memory B cells : 114\n",
      "Cytotoxic T cells : 274\n",
      "Naive B cells : 39\n",
      "ANK1-low erythroid cells : 51\n",
      "CD14+ monocytes : 385\n",
      "Pre-B cells : 115\n",
      "Erythroid cells : 139\n",
      "Pro-B cells : 57\n",
      "Neutrophil progenitors : 54\n",
      "Erythroid progenitors : 26\n",
      "pDCs : 44\n",
      "Megakaryocyte progenitors : 15\n",
      "cDCs : 48\n",
      "NK cells : 205\n",
      "CD16+ monocytes : 76\n",
      "Plasma cells : 53\n",
      "MSCs : 6\n"
     ]
    }
   ],
   "source": [
    "counts = cytotrace.get_counts(threshold=0.000001)\n",
    "for count in counts:\n",
    "    print(count, \":\", counts[count])"
   ]
  },
  {
   "cell_type": "code",
   "execution_count": 12,
   "metadata": {},
   "outputs": [
    {
     "name": "stderr",
     "output_type": "stream",
     "text": [
      "Filtering genes...: 100%|██████████| 3386/3386 [00:00<00:00, 4583.94it/s]\n",
      "Building mask matrix...: 100%|██████████| 3024/3024 [00:33<00:00, 90.65it/s]\n",
      "Computing ORIGINS...: 100%|██████████| 96216/96216 [00:48<00:00, 1992.61it/s]\n"
     ]
    },
    {
     "name": "stdout",
     "output_type": "stream",
     "text": [
      "Time elapsed: 82.95261836051941 seconds\n"
     ]
    }
   ],
   "source": [
    "from src.utils.origins import ORIGINS\n",
    "\n",
    "bm_data = scanpy.read('../BCSC_data/20492a4b-0def-457b-9574-60dfdde2a0f2/BM_standard_design.h5ad')\n",
    "bm_data_origins = scanpy.AnnData(bm_data.X[idx_list,:])\n",
    "bm_data_origins.var['features'] = list(pd.read_excel('../BCSC_data/BM_metadata.xlsx', sheet_name=0)['Symbol'].values) + [\"-\"] * 1500\n",
    "bm_data_origins.obs['annotation'] = list(bm_data.obs.loc[name_list]['anno'].values)\n",
    "\n",
    "origins = ORIGINS(anndata = bm_data_origins, path = \"origins_ppi.csv\", show_progress = True)\n",
    "result_bm = origins.run()"
   ]
  },
  {
   "cell_type": "markdown",
   "metadata": {},
   "source": [
    "ORIGINS result on Bone Marrow data"
   ]
  },
  {
   "cell_type": "code",
   "execution_count": 21,
   "metadata": {},
   "outputs": [
    {
     "name": "stdout",
     "output_type": "stream",
     "text": [
      "NK cells : 1299\n",
      "T helper cells : 4622\n",
      "CD4+ naive T cells : 2785\n",
      "CD14+ monocytes : 6568\n",
      "Neutrophil progenitors : 266\n",
      "Memory B cells : 1454\n",
      "Cytotoxic T cells : 3064\n",
      "CD8+ naive T cells : 2689\n",
      "Naive B cells : 542\n",
      "Plasma cells : 742\n",
      "Pre-B cells : 268\n",
      "ANK1-low erythroid cells : 80\n",
      "Pro-B cells : 231\n",
      "CD16+ monocytes : 590\n",
      "pDCs : 220\n",
      "Erythroid cells : 36\n",
      "Megakaryocyte progenitors : 26\n",
      "cDCs : 134\n",
      "HSCs : 29\n",
      "Erythroid progenitors : 13\n",
      "MSCs : 8\n"
     ]
    }
   ],
   "source": [
    "counts = origins.get_counts(threshold=0.05)\n",
    "for count in counts:\n",
    "    print(count, \":\", counts[count])"
   ]
  }
 ],
 "metadata": {
  "kernelspec": {
   "display_name": "thesis",
   "language": "python",
   "name": "python3"
  },
  "language_info": {
   "codemirror_mode": {
    "name": "ipython",
    "version": 3
   },
   "file_extension": ".py",
   "mimetype": "text/x-python",
   "name": "python",
   "nbconvert_exporter": "python",
   "pygments_lexer": "ipython3",
   "version": "3.10.11"
  }
 },
 "nbformat": 4,
 "nbformat_minor": 2
}
